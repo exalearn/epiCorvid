{
 "cells": [
  {
   "cell_type": "code",
   "execution_count": 4,
   "metadata": {},
   "outputs": [
    {
     "name": "stdout",
     "output_type": "stream",
     "text": [
      "(10048, 124, 5, 365)\n",
      "(10048, 2)\n",
      "(10048, 2)\n",
      "(124,)\n"
     ]
    }
   ],
   "source": [
    "import numpy as np\n",
    "import h5py\n",
    "import matplotlib.pyplot as plt\n",
    "\n",
    "\n",
    "param_inds = [3, 5]\n",
    "Cdir = '/global/cfs/cdirs/m3623/datasets/RLtest/'\n",
    "with h5py.File(Cdir+'data.h5', 'r') as f:\n",
    "    sympt = f['symptomatic3D'][...].astype(np.int32)\n",
    "    bios = f['parBio'][:,param_inds]\n",
    "    unis = f['uniBio'][:,param_inds]\n",
    "    \n",
    "print(sympt.shape)\n",
    "print(bios.shape)\n",
    "print(unis.shape)\n",
    "\n",
    "datFile = '/global/homes/p/pharring/covid/epiCorvid/corvid_march/corviddata/seattle-tracts.dat'\n",
    "dat = np.genfromtxt(datFile, delimiter=',')[:,3]\n",
    "print(dat.shape)\n",
    "#sympt = sympt[8500:]\n",
    "#bios = bios[8500:]"
   ]
  },
  {
   "cell_type": "code",
   "execution_count": 9,
   "metadata": {},
   "outputs": [
    {
     "name": "stdout",
     "output_type": "stream",
     "text": [
      "(10048, 365, 2)\n"
     ]
    }
   ],
   "source": [
    "agg = np.sum(sympt, axis=(1,2))\n",
    "cumsympt = np.cumsum(agg, axis=-1)\n",
    "states = np.stack([agg, cumsympt], axis=-1)\n",
    "print(states.shape)"
   ]
  },
  {
   "cell_type": "code",
   "execution_count": 19,
   "metadata": {},
   "outputs": [
    {
     "data": {
      "image/png": "[encoded data removed]",
      "text/plain": [
       "<Figure size 432x288 with 1 Axes>"
      ]
     },
     "metadata": {
      "needs_background": "light"
     },
     "output_type": "display_data"
    }
   ],
   "source": [
    "needsplot = True\n",
    "f = plt.figure()\n",
    "cnt=0\n",
    "for sim in range(1):\n",
    "    cnt+=1\n",
    "    sim = np.random.randint(sympt.shape[0])\n",
    "    day = np.random.randint(3,50)*7\n",
    "    #print(sim, day)\n",
    "    samp_t1 = states[sim,day,:]\n",
    "    samp_t2 = states[sim,day+7,:]\n",
    "    samp_pars = bios[sim]\n",
    "    if samp_t1[0]==0 or samp_t2[0]==0:\n",
    "        continue\n",
    "\n",
    "    idxs = np.where(np.any(bios - samp_pars, axis=1), False, True)\n",
    "    matches = states[idxs]\n",
    "    if matches.shape[0]==0:\n",
    "        continue\n",
    "\n",
    "    close05 = []\n",
    "    close10 = []\n",
    "    L1 = []\n",
    "\n",
    "     \n",
    "    for i in range(matches.shape[0]):\n",
    "        sim2 = matches[i]\n",
    "        err = np.abs((samp_t1 - sim2)/samp_t1)\n",
    "        day2 = np.argmin(np.mean(err[:357,:], axis=1))\n",
    "        if samp_t1[0] == sim2[day2,0]:\n",
    "            continue\n",
    "        mean = err[day2].mean()\n",
    "        if mean<0.05:\n",
    "            close05.append(sim2[day2])\n",
    "            new = sim2[day2+7]\n",
    "            if needsplot:\n",
    "                plt.plot([day,day+7], np.log1p([sim2[day2,0], new[0]]), color='r', alpha=0.1)\n",
    "                plt.plot([day,day+7], np.log1p([sim2[day2,1], new[1]]), color='b', alpha=0.1)\n",
    "            diff = np.abs((samp_t2 - new)/samp_t2)\n",
    "            L1.append(diff)\n",
    "            \n",
    "    if needsplot:\n",
    "        plt.plot([day,day+7], np.log1p([samp_t1[0], samp_t2[0]]), 'k-', label='new sympt')\n",
    "        plt.plot([day,day+7], np.log1p([samp_t1[1], samp_t2[1]]), 'k--', label='cum sympt')\n",
    "        plt.ylabel('$\\log (1+n)$')\n",
    "        plt.xlabel('Day')\n",
    "        plt.ylim((0,12.5))\n",
    "        plt.legend()\n",
    "        plt.show()\n",
    "        needsplot=False\n",
    "    if not L1:\n",
    "        continue\n",
    "    L1 = np.stack(L1, axis=0)\n",
    "    "
   ]
  },
  {
   "cell_type": "code",
   "execution_count": null,
   "metadata": {},
   "outputs": [],
   "source": []
  }
 ],
 "metadata": {
  "kernelspec": {
   "display_name": "Python 3",
   "language": "python",
   "name": "python3"
  },
  "language_info": {
   "codemirror_mode": {
    "name": "ipython",
    "version": 3
   },
   "file_extension": ".py",
   "mimetype": "text/x-python",
   "name": "python",
   "nbconvert_exporter": "python",
   "pygments_lexer": "ipython3",
   "version": "3.7.4"
  }
 },
 "nbformat": 4,
 "nbformat_minor": 4
}
